{
 "cells": [
  {
   "cell_type": "code",
   "execution_count": 18,
   "id": "27aa31d0-1d9f-44b9-8e70-3c92a52dad78",
   "metadata": {
    "id": "27aa31d0-1d9f-44b9-8e70-3c92a52dad78"
   },
   "outputs": [],
   "source": [
    "import pandas as pd\n",
    "import matplotlib as mpl \n",
    "import numpy as np\n",
    "import matplotlib.pyplot as plt\n",
    "from sklearn.preprocessing import StandardScaler\n",
    "from sklearn.model_selection import train_test_split\n",
    "from sklearn.preprocessing import StandardScaler, LabelEncoder\n",
    "from sklearn.ensemble import RandomForestClassifier\n",
    "from sklearn.svm import SVC\n",
    "from sklearn.tree import DecisionTreeClassifier\n",
    "from sklearn.linear_model import LogisticRegression\n",
    "from sklearn.metrics import classification_report, accuracy_score"
   ]
  },
  {
   "cell_type": "code",
   "execution_count": 5,
   "id": "84a3696f-dac8-4dc0-a5cc-bf428cabe4c3",
   "metadata": {},
   "outputs": [],
   "source": [
    "mpl.rc('font', family = 'Malgun Gothic')"
   ]
  },
  {
   "cell_type": "code",
   "execution_count": 13,
   "id": "3d726d7b-a383-4a33-b800-f3ad1cfaa560",
   "metadata": {},
   "outputs": [
    {
     "data": {
      "text/html": [
       "<div>\n",
       "<style scoped>\n",
       "    .dataframe tbody tr th:only-of-type {\n",
       "        vertical-align: middle;\n",
       "    }\n",
       "\n",
       "    .dataframe tbody tr th {\n",
       "        vertical-align: top;\n",
       "    }\n",
       "\n",
       "    .dataframe thead th {\n",
       "        text-align: right;\n",
       "    }\n",
       "</style>\n",
       "<table border=\"1\" class=\"dataframe\">\n",
       "  <thead>\n",
       "    <tr style=\"text-align: right;\">\n",
       "      <th></th>\n",
       "      <th>위치</th>\n",
       "      <th>일시</th>\n",
       "      <th>현재발전출력</th>\n",
       "      <th>수평일사량1</th>\n",
       "      <th>수평일사량2</th>\n",
       "      <th>경사일사량1</th>\n",
       "      <th>경사일사량2</th>\n",
       "      <th>외기온도1</th>\n",
       "      <th>외기온도2</th>\n",
       "      <th>평균 풍속(m/s)</th>\n",
       "      <th>평균기압(hPa)</th>\n",
       "      <th>평균 상대습도(%)</th>\n",
       "      <th>평균 기온(°C)</th>\n",
       "      <th>Cluster</th>\n",
       "    </tr>\n",
       "  </thead>\n",
       "  <tbody>\n",
       "    <tr>\n",
       "      <th>0</th>\n",
       "      <td>C</td>\n",
       "      <td>2016-01-01</td>\n",
       "      <td>466.916073</td>\n",
       "      <td>399.931800</td>\n",
       "      <td>111.610686</td>\n",
       "      <td>480.541403</td>\n",
       "      <td>191.603908</td>\n",
       "      <td>5.645956</td>\n",
       "      <td>-2.372171</td>\n",
       "      <td>6.5</td>\n",
       "      <td>1023.2</td>\n",
       "      <td>53.0</td>\n",
       "      <td>8.6</td>\n",
       "      <td>1</td>\n",
       "    </tr>\n",
       "    <tr>\n",
       "      <th>1</th>\n",
       "      <td>C</td>\n",
       "      <td>2016-01-02</td>\n",
       "      <td>462.048084</td>\n",
       "      <td>413.124592</td>\n",
       "      <td>184.873316</td>\n",
       "      <td>494.137144</td>\n",
       "      <td>398.508177</td>\n",
       "      <td>6.204298</td>\n",
       "      <td>-2.171323</td>\n",
       "      <td>9.2</td>\n",
       "      <td>1023.3</td>\n",
       "      <td>61.0</td>\n",
       "      <td>11.4</td>\n",
       "      <td>2</td>\n",
       "    </tr>\n",
       "    <tr>\n",
       "      <th>2</th>\n",
       "      <td>C</td>\n",
       "      <td>2016-01-03</td>\n",
       "      <td>481.714037</td>\n",
       "      <td>450.547333</td>\n",
       "      <td>1.794231</td>\n",
       "      <td>537.834034</td>\n",
       "      <td>0.933333</td>\n",
       "      <td>4.091682</td>\n",
       "      <td>-3.270690</td>\n",
       "      <td>4.6</td>\n",
       "      <td>1018.7</td>\n",
       "      <td>61.0</td>\n",
       "      <td>13.5</td>\n",
       "      <td>1</td>\n",
       "    </tr>\n",
       "    <tr>\n",
       "      <th>3</th>\n",
       "      <td>C</td>\n",
       "      <td>2016-01-04</td>\n",
       "      <td>445.589532</td>\n",
       "      <td>408.595023</td>\n",
       "      <td>130.497312</td>\n",
       "      <td>490.903517</td>\n",
       "      <td>164.789050</td>\n",
       "      <td>7.170962</td>\n",
       "      <td>-0.778970</td>\n",
       "      <td>6.6</td>\n",
       "      <td>1020.1</td>\n",
       "      <td>47.0</td>\n",
       "      <td>12.6</td>\n",
       "      <td>1</td>\n",
       "    </tr>\n",
       "    <tr>\n",
       "      <th>4</th>\n",
       "      <td>C</td>\n",
       "      <td>2016-01-05</td>\n",
       "      <td>300.211976</td>\n",
       "      <td>309.510464</td>\n",
       "      <td>176.789702</td>\n",
       "      <td>356.587164</td>\n",
       "      <td>348.965828</td>\n",
       "      <td>6.734510</td>\n",
       "      <td>-3.191605</td>\n",
       "      <td>6.1</td>\n",
       "      <td>1023.6</td>\n",
       "      <td>41.0</td>\n",
       "      <td>9.1</td>\n",
       "      <td>1</td>\n",
       "    </tr>\n",
       "  </tbody>\n",
       "</table>\n",
       "</div>"
      ],
      "text/plain": [
       "  위치          일시      현재발전출력      수평일사량1      수평일사량2      경사일사량1      경사일사량2  \\\n",
       "0  C  2016-01-01  466.916073  399.931800  111.610686  480.541403  191.603908   \n",
       "1  C  2016-01-02  462.048084  413.124592  184.873316  494.137144  398.508177   \n",
       "2  C  2016-01-03  481.714037  450.547333    1.794231  537.834034    0.933333   \n",
       "3  C  2016-01-04  445.589532  408.595023  130.497312  490.903517  164.789050   \n",
       "4  C  2016-01-05  300.211976  309.510464  176.789702  356.587164  348.965828   \n",
       "\n",
       "      외기온도1     외기온도2  평균 풍속(m/s)  평균기압(hPa)  평균 상대습도(%)  평균 기온(°C)  Cluster  \n",
       "0  5.645956 -2.372171         6.5     1023.2        53.0        8.6        1  \n",
       "1  6.204298 -2.171323         9.2     1023.3        61.0       11.4        2  \n",
       "2  4.091682 -3.270690         4.6     1018.7        61.0       13.5        1  \n",
       "3  7.170962 -0.778970         6.6     1020.1        47.0       12.6        1  \n",
       "4  6.734510 -3.191605         6.1     1023.6        41.0        9.1        1  "
      ]
     },
     "execution_count": 13,
     "metadata": {},
     "output_type": "execute_result"
    }
   ],
   "source": [
    "df = pd.read_csv('df_cluster_result_최종.csv')\n",
    "df.head()"
   ]
  },
  {
   "cell_type": "markdown",
   "id": "5b0582de-d459-4383-a9c7-1f5c42c3ddc9",
   "metadata": {},
   "source": [
    "## 지역 예측"
   ]
  },
  {
   "cell_type": "code",
   "execution_count": 16,
   "id": "f6e49d4c-9bb2-4971-a948-80f2e7ded525",
   "metadata": {},
   "outputs": [],
   "source": [
    "# 지역을 제외한 변수들 기반 지역 분류\n",
    "# 일시 제외하고 분류 (get dummy 하면 변수 너무 많이 생김)\n",
    "\n",
    "df = df.drop(['일시', 'Cluster'], axis = 1)"
   ]
  },
  {
   "cell_type": "code",
   "execution_count": 32,
   "id": "04547249-a6dc-494d-b2b5-8d7ad22827fa",
   "metadata": {},
   "outputs": [
    {
     "data": {
      "text/plain": [
       "Index(['현재발전출력', '수평일사량1', '수평일사량2', '경사일사량1', '경사일사량2', '외기온도1', '외기온도2',\n",
       "       '평균 풍속(m/s)', '평균기압(hPa)', '평균 상대습도(%)', '평균 기온(°C)'],\n",
       "      dtype='object')"
      ]
     },
     "execution_count": 32,
     "metadata": {},
     "output_type": "execute_result"
    }
   ],
   "source": [
    "# 분류 사용 변수\n",
    "X.columns"
   ]
  },
  {
   "cell_type": "code",
   "execution_count": 20,
   "id": "c674c6b5-2f1c-41ea-873e-6c041398dd20",
   "metadata": {},
   "outputs": [
    {
     "name": "stdout",
     "output_type": "stream",
     "text": [
      "Accuracy: 0.9121004566210046\n",
      "              precision    recall  f1-score   support\n",
      "\n",
      "           B       0.99      0.94      0.96      1773\n",
      "           C       0.94      0.84      0.88      1737\n",
      "           D       0.92      0.93      0.92      1741\n",
      "           E       0.86      0.98      0.92      1757\n",
      "\n",
      "    accuracy                           0.92      7008\n",
      "   macro avg       0.93      0.92      0.92      7008\n",
      "weighted avg       0.93      0.92      0.92      7008\n",
      "\n",
      "-----------------------------------------------------\n",
      "              precision    recall  f1-score   support\n",
      "\n",
      "           B       0.99      0.93      0.96       417\n",
      "           C       0.93      0.82      0.87       453\n",
      "           D       0.89      0.92      0.91       449\n",
      "           E       0.86      0.98      0.91       433\n",
      "\n",
      "    accuracy                           0.91      1752\n",
      "   macro avg       0.92      0.91      0.91      1752\n",
      "weighted avg       0.92      0.91      0.91      1752\n",
      "\n"
     ]
    }
   ],
   "source": [
    "label_encoder = LabelEncoder()\n",
    "df['위치'] = label_encoder.fit_transform(df['위치'])\n",
    "\n",
    "# 1. 타겟과 피쳐 설정\n",
    "X = df.drop('위치', axis=1)  # 위치를 제외한 모든 변수를 독립 변수로 설정\n",
    "y = df['위치']  # 위치를 종속 변수로 설정\n",
    "\n",
    "# 2. 스케일링\n",
    "scaler = StandardScaler()\n",
    "X_scaled = scaler.fit_transform(X)\n",
    "\n",
    "# 3. 데이터 분할\n",
    "X_train, X_test, y_train, y_test = train_test_split(X_scaled, y, test_size=0.2, random_state=42)\n",
    "\n",
    "# 4. 모델 선택 및 학습\n",
    "model = RandomForestClassifier(random_state=42, max_depth = 3)\n",
    "model.fit(X_train, y_train)\n",
    "\n",
    "y_pred = model.predict(X_test)\n",
    "y_p_train = model.predict(X_train)\n",
    "print(f\"Accuracy: {accuracy_score(y_test, y_pred)}\")\n",
    "\n",
    "# LabelEncoder의 클래스 레이블을 문자열로 변환\n",
    "target_names = label_encoder.classes_.astype(str)\n",
    "\n",
    "# 5. 모델 평가\n",
    "print(classification_report(y_train, y_p_train, target_names=target_names))\n",
    "print('-----------------------------------------------------')\n",
    "print(classification_report(y_test, y_pred, target_names=target_names))"
   ]
  },
  {
   "cell_type": "code",
   "execution_count": 22,
   "id": "2a4af6b7-ea47-4353-971e-cb991411608e",
   "metadata": {},
   "outputs": [
    {
     "name": "stdout",
     "output_type": "stream",
     "text": [
      "Accuracy: 0.8915525114155252\n",
      "              precision    recall  f1-score   support\n",
      "\n",
      "           0       0.99      0.94      0.96      1773\n",
      "           1       0.89      0.78      0.83      1737\n",
      "           2       0.85      0.91      0.88      1741\n",
      "           3       0.87      0.97      0.92      1757\n",
      "\n",
      "    accuracy                           0.90      7008\n",
      "   macro avg       0.90      0.90      0.90      7008\n",
      "weighted avg       0.90      0.90      0.90      7008\n",
      "\n",
      "-----------------------------------------------------\n",
      "              precision    recall  f1-score   support\n",
      "\n",
      "           0       0.99      0.94      0.96       417\n",
      "           1       0.87      0.78      0.82       453\n",
      "           2       0.84      0.89      0.86       449\n",
      "           3       0.88      0.97      0.92       433\n",
      "\n",
      "    accuracy                           0.89      1752\n",
      "   macro avg       0.89      0.89      0.89      1752\n",
      "weighted avg       0.89      0.89      0.89      1752\n",
      "\n"
     ]
    }
   ],
   "source": [
    "label_encoder = LabelEncoder()\n",
    "df['위치'] = label_encoder.fit_transform(df['위치'])\n",
    "\n",
    "# 1. 타겟과 피쳐 설정\n",
    "X = df.drop('위치', axis=1)  # 위치를 제외한 모든 변수를 독립 변수로 설정\n",
    "y = df['위치']  # 위치를 종속 변수로 설정\n",
    "\n",
    "# 2. 스케일링\n",
    "scaler = StandardScaler()\n",
    "X_scaled = scaler.fit_transform(X)\n",
    "\n",
    "# 3. 데이터 분할\n",
    "X_train, X_test, y_train, y_test = train_test_split(X_scaled, y, test_size=0.2, random_state=42)\n",
    "\n",
    "# 4. 모델 선택 및 학습\n",
    "model = SVC(kernel='linear', random_state=42)  # 선형 커널을 사용\n",
    "model.fit(X_train, y_train)\n",
    "\n",
    "y_pred = model.predict(X_test)\n",
    "y_p_train = model.predict(X_train)\n",
    "print(f\"Accuracy: {accuracy_score(y_test, y_pred)}\")\n",
    "\n",
    "# LabelEncoder의 클래스 레이블을 문자열로 변환\n",
    "target_names = label_encoder.classes_.astype(str)\n",
    "\n",
    "# 5. 모델 평가\n",
    "print(classification_report(y_train, y_p_train, target_names=target_names))\n",
    "print('-----------------------------------------------------')\n",
    "print(classification_report(y_test, y_pred, target_names=target_names))"
   ]
  },
  {
   "cell_type": "code",
   "execution_count": 24,
   "id": "c1334dbc-80e7-4044-91b9-47557763917c",
   "metadata": {},
   "outputs": [
    {
     "name": "stdout",
     "output_type": "stream",
     "text": [
      "Accuracy: 0.8818493150684932\n",
      "              precision    recall  f1-score   support\n",
      "\n",
      "           0       0.99      0.92      0.95      1773\n",
      "           1       0.92      0.74      0.82      1737\n",
      "           2       0.87      0.99      0.93      1741\n",
      "           3       0.82      0.93      0.87      1757\n",
      "\n",
      "    accuracy                           0.90      7008\n",
      "   macro avg       0.90      0.89      0.89      7008\n",
      "weighted avg       0.90      0.90      0.89      7008\n",
      "\n",
      "-----------------------------------------------------\n",
      "              precision    recall  f1-score   support\n",
      "\n",
      "           0       0.98      0.89      0.93       417\n",
      "           1       0.91      0.73      0.81       453\n",
      "           2       0.85      1.00      0.92       449\n",
      "           3       0.81      0.92      0.86       433\n",
      "\n",
      "    accuracy                           0.88      1752\n",
      "   macro avg       0.89      0.88      0.88      1752\n",
      "weighted avg       0.89      0.88      0.88      1752\n",
      "\n"
     ]
    }
   ],
   "source": [
    "label_encoder = LabelEncoder()\n",
    "df['위치'] = label_encoder.fit_transform(df['위치'])\n",
    "\n",
    "# 1. 타겟과 피쳐 설정\n",
    "X = df.drop('위치', axis=1)  # 위치를 제외한 모든 변수를 독립 변수로 설정\n",
    "y = df['위치']  # 위치를 종속 변수로 설정\n",
    "\n",
    "# 2. 스케일링\n",
    "scaler = StandardScaler()\n",
    "X_scaled = scaler.fit_transform(X)\n",
    "\n",
    "# 3. 데이터 분할\n",
    "X_train, X_test, y_train, y_test = train_test_split(X_scaled, y, test_size=0.2, random_state=42)\n",
    "\n",
    "# 4. 모델 선택 및 학습\n",
    "model = DecisionTreeClassifier(random_state=42, max_depth = 3)\n",
    "model.fit(X_train, y_train)\n",
    "\n",
    "y_pred = model.predict(X_test)\n",
    "y_p_train = model.predict(X_train)\n",
    "print(f\"Accuracy: {accuracy_score(y_test, y_pred)}\")\n",
    "\n",
    "# LabelEncoder의 클래스 레이블을 문자열로 변환\n",
    "target_names = label_encoder.classes_.astype(str)\n",
    "\n",
    "# 5. 모델 평가\n",
    "print(classification_report(y_train, y_p_train, target_names=target_names))\n",
    "print('-----------------------------------------------------')\n",
    "print(classification_report(y_test, y_pred, target_names=target_names))"
   ]
  },
  {
   "cell_type": "code",
   "execution_count": 26,
   "id": "c2852179-af64-4400-a29d-eaa2bac2cd1e",
   "metadata": {},
   "outputs": [
    {
     "name": "stdout",
     "output_type": "stream",
     "text": [
      "Accuracy: 0.8601598173515982\n",
      "              precision    recall  f1-score   support\n",
      "\n",
      "           0       0.99      0.94      0.96      1773\n",
      "           1       0.81      0.73      0.77      1737\n",
      "           2       0.82      0.82      0.82      1741\n",
      "           3       0.85      0.97      0.90      1757\n",
      "\n",
      "    accuracy                           0.87      7008\n",
      "   macro avg       0.87      0.87      0.86      7008\n",
      "weighted avg       0.87      0.87      0.86      7008\n",
      "\n",
      "-----------------------------------------------------\n",
      "              precision    recall  f1-score   support\n",
      "\n",
      "           0       0.98      0.94      0.96       417\n",
      "           1       0.81      0.75      0.78       453\n",
      "           2       0.80      0.79      0.80       449\n",
      "           3       0.86      0.97      0.91       433\n",
      "\n",
      "    accuracy                           0.86      1752\n",
      "   macro avg       0.86      0.86      0.86      1752\n",
      "weighted avg       0.86      0.86      0.86      1752\n",
      "\n"
     ]
    }
   ],
   "source": [
    "label_encoder = LabelEncoder()\n",
    "df['위치'] = label_encoder.fit_transform(df['위치'])\n",
    "\n",
    "# 1. 타겟과 피쳐 설정\n",
    "X = df.drop('위치', axis=1)  # 위치를 제외한 모든 변수를 독립 변수로 설정\n",
    "y = df['위치']  # 위치를 종속 변수로 설정\n",
    "\n",
    "# 2. 스케일링\n",
    "scaler = StandardScaler()\n",
    "X_scaled = scaler.fit_transform(X)\n",
    "\n",
    "# 3. 데이터 분할\n",
    "X_train, X_test, y_train, y_test = train_test_split(X_scaled, y, test_size=0.2, random_state=42)\n",
    "\n",
    "# 4. 모델 선택 및 학습\n",
    "model = LogisticRegression(multi_class='ovr', random_state=42)  # 다중 클래스 문제를 'one-vs-rest' 전략으로 해결\n",
    "model.fit(X_train, y_train)\n",
    "\n",
    "y_pred = model.predict(X_test)\n",
    "y_p_train = model.predict(X_train)\n",
    "print(f\"Accuracy: {accuracy_score(y_test, y_pred)}\")\n",
    "\n",
    "# LabelEncoder의 클래스 레이블을 문자열로 변환\n",
    "target_names = label_encoder.classes_.astype(str)\n",
    "\n",
    "# 5. 모델 평가\n",
    "print(classification_report(y_train, y_p_train, target_names=target_names))\n",
    "print('-----------------------------------------------------')\n",
    "print(classification_report(y_test, y_pred, target_names=target_names))"
   ]
  },
  {
   "cell_type": "markdown",
   "id": "ebf0b8e2-01b7-4871-aa96-71a4ad66ae32",
   "metadata": {},
   "source": [
    "## 효율 지수 계산"
   ]
  },
  {
   "cell_type": "code",
   "execution_count": 35,
   "id": "aeab840a-a8b0-4d50-887d-c3f09806437e",
   "metadata": {},
   "outputs": [
    {
     "data": {
      "text/html": [
       "<div>\n",
       "<style scoped>\n",
       "    .dataframe tbody tr th:only-of-type {\n",
       "        vertical-align: middle;\n",
       "    }\n",
       "\n",
       "    .dataframe tbody tr th {\n",
       "        vertical-align: top;\n",
       "    }\n",
       "\n",
       "    .dataframe thead th {\n",
       "        text-align: right;\n",
       "    }\n",
       "</style>\n",
       "<table border=\"1\" class=\"dataframe\">\n",
       "  <thead>\n",
       "    <tr style=\"text-align: right;\">\n",
       "      <th></th>\n",
       "      <th>위치</th>\n",
       "      <th>일시</th>\n",
       "      <th>현재발전출력</th>\n",
       "      <th>수평일사량1</th>\n",
       "      <th>수평일사량2</th>\n",
       "      <th>경사일사량1</th>\n",
       "      <th>경사일사량2</th>\n",
       "      <th>외기온도1</th>\n",
       "      <th>외기온도2</th>\n",
       "      <th>평균 풍속(m/s)</th>\n",
       "      <th>평균기압(hPa)</th>\n",
       "      <th>평균 상대습도(%)</th>\n",
       "      <th>평균 기온(°C)</th>\n",
       "      <th>Cluster</th>\n",
       "    </tr>\n",
       "  </thead>\n",
       "  <tbody>\n",
       "    <tr>\n",
       "      <th>0</th>\n",
       "      <td>C</td>\n",
       "      <td>2016-01-01</td>\n",
       "      <td>466.916073</td>\n",
       "      <td>399.931800</td>\n",
       "      <td>111.610686</td>\n",
       "      <td>480.541403</td>\n",
       "      <td>191.603908</td>\n",
       "      <td>5.645956</td>\n",
       "      <td>-2.372171</td>\n",
       "      <td>6.5</td>\n",
       "      <td>1023.2</td>\n",
       "      <td>53.0</td>\n",
       "      <td>8.6</td>\n",
       "      <td>1</td>\n",
       "    </tr>\n",
       "    <tr>\n",
       "      <th>1</th>\n",
       "      <td>C</td>\n",
       "      <td>2016-01-02</td>\n",
       "      <td>462.048084</td>\n",
       "      <td>413.124592</td>\n",
       "      <td>184.873316</td>\n",
       "      <td>494.137144</td>\n",
       "      <td>398.508177</td>\n",
       "      <td>6.204298</td>\n",
       "      <td>-2.171323</td>\n",
       "      <td>9.2</td>\n",
       "      <td>1023.3</td>\n",
       "      <td>61.0</td>\n",
       "      <td>11.4</td>\n",
       "      <td>2</td>\n",
       "    </tr>\n",
       "    <tr>\n",
       "      <th>2</th>\n",
       "      <td>C</td>\n",
       "      <td>2016-01-03</td>\n",
       "      <td>481.714037</td>\n",
       "      <td>450.547333</td>\n",
       "      <td>1.794231</td>\n",
       "      <td>537.834034</td>\n",
       "      <td>0.933333</td>\n",
       "      <td>4.091682</td>\n",
       "      <td>-3.270690</td>\n",
       "      <td>4.6</td>\n",
       "      <td>1018.7</td>\n",
       "      <td>61.0</td>\n",
       "      <td>13.5</td>\n",
       "      <td>1</td>\n",
       "    </tr>\n",
       "    <tr>\n",
       "      <th>3</th>\n",
       "      <td>C</td>\n",
       "      <td>2016-01-04</td>\n",
       "      <td>445.589532</td>\n",
       "      <td>408.595023</td>\n",
       "      <td>130.497312</td>\n",
       "      <td>490.903517</td>\n",
       "      <td>164.789050</td>\n",
       "      <td>7.170962</td>\n",
       "      <td>-0.778970</td>\n",
       "      <td>6.6</td>\n",
       "      <td>1020.1</td>\n",
       "      <td>47.0</td>\n",
       "      <td>12.6</td>\n",
       "      <td>1</td>\n",
       "    </tr>\n",
       "    <tr>\n",
       "      <th>4</th>\n",
       "      <td>C</td>\n",
       "      <td>2016-01-05</td>\n",
       "      <td>300.211976</td>\n",
       "      <td>309.510464</td>\n",
       "      <td>176.789702</td>\n",
       "      <td>356.587164</td>\n",
       "      <td>348.965828</td>\n",
       "      <td>6.734510</td>\n",
       "      <td>-3.191605</td>\n",
       "      <td>6.1</td>\n",
       "      <td>1023.6</td>\n",
       "      <td>41.0</td>\n",
       "      <td>9.1</td>\n",
       "      <td>1</td>\n",
       "    </tr>\n",
       "  </tbody>\n",
       "</table>\n",
       "</div>"
      ],
      "text/plain": [
       "  위치          일시      현재발전출력      수평일사량1      수평일사량2      경사일사량1      경사일사량2  \\\n",
       "0  C  2016-01-01  466.916073  399.931800  111.610686  480.541403  191.603908   \n",
       "1  C  2016-01-02  462.048084  413.124592  184.873316  494.137144  398.508177   \n",
       "2  C  2016-01-03  481.714037  450.547333    1.794231  537.834034    0.933333   \n",
       "3  C  2016-01-04  445.589532  408.595023  130.497312  490.903517  164.789050   \n",
       "4  C  2016-01-05  300.211976  309.510464  176.789702  356.587164  348.965828   \n",
       "\n",
       "      외기온도1     외기온도2  평균 풍속(m/s)  평균기압(hPa)  평균 상대습도(%)  평균 기온(°C)  Cluster  \n",
       "0  5.645956 -2.372171         6.5     1023.2        53.0        8.6        1  \n",
       "1  6.204298 -2.171323         9.2     1023.3        61.0       11.4        2  \n",
       "2  4.091682 -3.270690         4.6     1018.7        61.0       13.5        1  \n",
       "3  7.170962 -0.778970         6.6     1020.1        47.0       12.6        1  \n",
       "4  6.734510 -3.191605         6.1     1023.6        41.0        9.1        1  "
      ]
     },
     "execution_count": 35,
     "metadata": {},
     "output_type": "execute_result"
    }
   ],
   "source": [
    "df = pd.read_csv('df_cluster_result_최종.csv')\n",
    "df.head()"
   ]
  },
  {
   "cell_type": "code",
   "execution_count": 37,
   "id": "51562b45-ebea-4e06-acea-94f7bf4a5848",
   "metadata": {},
   "outputs": [],
   "source": [
    "df.loc[df['외기온도2'] >= 237.65504, '외기온도2'] = 23.870641"
   ]
  },
  {
   "cell_type": "code",
   "execution_count": 39,
   "id": "dd539442-6357-4753-9f7c-11c0633ebd7c",
   "metadata": {},
   "outputs": [],
   "source": [
    "c0 = df[df['Cluster'] == 0]\n",
    "c1 = df[df['Cluster'] == 1]\n",
    "c2 = df[df['Cluster'] == 2]\n",
    "c3 = df[df['Cluster'] == 3]"
   ]
  },
  {
   "cell_type": "code",
   "execution_count": 41,
   "id": "c010fcf6-feb4-496b-a6e8-a87ef02e6ae4",
   "metadata": {},
   "outputs": [],
   "source": [
    "# 효율 지수 계산\n",
    "# output / input\n",
    "\n",
    "df['효율지수'] = df['현재발전출력'] / (df['수평일사량1'] + df['수평일사량2'] + df['경사일사량1'] + df['경사일사량2'])"
   ]
  },
  {
   "cell_type": "code",
   "execution_count": 43,
   "id": "bf8f28e3-2e53-42f1-8ca4-1a8da47c3794",
   "metadata": {},
   "outputs": [
    {
     "data": {
      "text/html": [
       "<div>\n",
       "<style scoped>\n",
       "    .dataframe tbody tr th:only-of-type {\n",
       "        vertical-align: middle;\n",
       "    }\n",
       "\n",
       "    .dataframe tbody tr th {\n",
       "        vertical-align: top;\n",
       "    }\n",
       "\n",
       "    .dataframe thead th {\n",
       "        text-align: right;\n",
       "    }\n",
       "</style>\n",
       "<table border=\"1\" class=\"dataframe\">\n",
       "  <thead>\n",
       "    <tr style=\"text-align: right;\">\n",
       "      <th></th>\n",
       "      <th>위치</th>\n",
       "      <th>일시</th>\n",
       "      <th>현재발전출력</th>\n",
       "      <th>수평일사량1</th>\n",
       "      <th>수평일사량2</th>\n",
       "      <th>경사일사량1</th>\n",
       "      <th>경사일사량2</th>\n",
       "      <th>외기온도1</th>\n",
       "      <th>외기온도2</th>\n",
       "      <th>평균 풍속(m/s)</th>\n",
       "      <th>평균기압(hPa)</th>\n",
       "      <th>평균 상대습도(%)</th>\n",
       "      <th>평균 기온(°C)</th>\n",
       "      <th>Cluster</th>\n",
       "      <th>효율지수</th>\n",
       "    </tr>\n",
       "  </thead>\n",
       "  <tbody>\n",
       "    <tr>\n",
       "      <th>0</th>\n",
       "      <td>C</td>\n",
       "      <td>2016-01-01</td>\n",
       "      <td>466.916073</td>\n",
       "      <td>399.931800</td>\n",
       "      <td>111.610686</td>\n",
       "      <td>480.541403</td>\n",
       "      <td>191.603908</td>\n",
       "      <td>5.645956</td>\n",
       "      <td>-2.372171</td>\n",
       "      <td>6.5</td>\n",
       "      <td>1023.2</td>\n",
       "      <td>53.0</td>\n",
       "      <td>8.6</td>\n",
       "      <td>1</td>\n",
       "      <td>0.394459</td>\n",
       "    </tr>\n",
       "    <tr>\n",
       "      <th>1</th>\n",
       "      <td>C</td>\n",
       "      <td>2016-01-02</td>\n",
       "      <td>462.048084</td>\n",
       "      <td>413.124592</td>\n",
       "      <td>184.873316</td>\n",
       "      <td>494.137144</td>\n",
       "      <td>398.508177</td>\n",
       "      <td>6.204298</td>\n",
       "      <td>-2.171323</td>\n",
       "      <td>9.2</td>\n",
       "      <td>1023.3</td>\n",
       "      <td>61.0</td>\n",
       "      <td>11.4</td>\n",
       "      <td>2</td>\n",
       "      <td>0.309966</td>\n",
       "    </tr>\n",
       "    <tr>\n",
       "      <th>2</th>\n",
       "      <td>C</td>\n",
       "      <td>2016-01-03</td>\n",
       "      <td>481.714037</td>\n",
       "      <td>450.547333</td>\n",
       "      <td>1.794231</td>\n",
       "      <td>537.834034</td>\n",
       "      <td>0.933333</td>\n",
       "      <td>4.091682</td>\n",
       "      <td>-3.270690</td>\n",
       "      <td>4.6</td>\n",
       "      <td>1018.7</td>\n",
       "      <td>61.0</td>\n",
       "      <td>13.5</td>\n",
       "      <td>1</td>\n",
       "      <td>0.486035</td>\n",
       "    </tr>\n",
       "    <tr>\n",
       "      <th>3</th>\n",
       "      <td>C</td>\n",
       "      <td>2016-01-04</td>\n",
       "      <td>445.589532</td>\n",
       "      <td>408.595023</td>\n",
       "      <td>130.497312</td>\n",
       "      <td>490.903517</td>\n",
       "      <td>164.789050</td>\n",
       "      <td>7.170962</td>\n",
       "      <td>-0.778970</td>\n",
       "      <td>6.6</td>\n",
       "      <td>1020.1</td>\n",
       "      <td>47.0</td>\n",
       "      <td>12.6</td>\n",
       "      <td>1</td>\n",
       "      <td>0.372945</td>\n",
       "    </tr>\n",
       "    <tr>\n",
       "      <th>4</th>\n",
       "      <td>C</td>\n",
       "      <td>2016-01-05</td>\n",
       "      <td>300.211976</td>\n",
       "      <td>309.510464</td>\n",
       "      <td>176.789702</td>\n",
       "      <td>356.587164</td>\n",
       "      <td>348.965828</td>\n",
       "      <td>6.734510</td>\n",
       "      <td>-3.191605</td>\n",
       "      <td>6.1</td>\n",
       "      <td>1023.6</td>\n",
       "      <td>41.0</td>\n",
       "      <td>9.1</td>\n",
       "      <td>1</td>\n",
       "      <td>0.251887</td>\n",
       "    </tr>\n",
       "  </tbody>\n",
       "</table>\n",
       "</div>"
      ],
      "text/plain": [
       "  위치          일시      현재발전출력      수평일사량1      수평일사량2      경사일사량1      경사일사량2  \\\n",
       "0  C  2016-01-01  466.916073  399.931800  111.610686  480.541403  191.603908   \n",
       "1  C  2016-01-02  462.048084  413.124592  184.873316  494.137144  398.508177   \n",
       "2  C  2016-01-03  481.714037  450.547333    1.794231  537.834034    0.933333   \n",
       "3  C  2016-01-04  445.589532  408.595023  130.497312  490.903517  164.789050   \n",
       "4  C  2016-01-05  300.211976  309.510464  176.789702  356.587164  348.965828   \n",
       "\n",
       "      외기온도1     외기온도2  평균 풍속(m/s)  평균기압(hPa)  평균 상대습도(%)  평균 기온(°C)  Cluster  \\\n",
       "0  5.645956 -2.372171         6.5     1023.2        53.0        8.6        1   \n",
       "1  6.204298 -2.171323         9.2     1023.3        61.0       11.4        2   \n",
       "2  4.091682 -3.270690         4.6     1018.7        61.0       13.5        1   \n",
       "3  7.170962 -0.778970         6.6     1020.1        47.0       12.6        1   \n",
       "4  6.734510 -3.191605         6.1     1023.6        41.0        9.1        1   \n",
       "\n",
       "       효율지수  \n",
       "0  0.394459  \n",
       "1  0.309966  \n",
       "2  0.486035  \n",
       "3  0.372945  \n",
       "4  0.251887  "
      ]
     },
     "execution_count": 43,
     "metadata": {},
     "output_type": "execute_result"
    }
   ],
   "source": [
    "df.head()"
   ]
  },
  {
   "cell_type": "code",
   "execution_count": 47,
   "id": "2cfaff78-1e42-48ec-a6a8-8c695a062afb",
   "metadata": {},
   "outputs": [],
   "source": [
    "import seaborn as sns"
   ]
  },
  {
   "cell_type": "markdown",
   "id": "51dff6f1-c616-4eab-a076-abe9d5e1b176",
   "metadata": {},
   "source": [
    "## 클러스터 별 효율지수 시각화"
   ]
  },
  {
   "cell_type": "code",
   "execution_count": 51,
   "id": "36f7bccc-0d55-461d-8fd4-7faf11f85548",
   "metadata": {},
   "outputs": [
    {
     "data": {
      "image/png": "[encoded data removed]",
      "text/plain": [
       "<Figure size 1000x1000 with 1 Axes>"
      ]
     },
     "metadata": {},
     "output_type": "display_data"
    }
   ],
   "source": [
    "plt.figure(figsize=(10, 10))\n",
    "sns.boxplot(x='Cluster', y='효율지수', data=df)\n",
    "plt.xlabel('Cluster')\n",
    "plt.ylabel('Efficiency Index')\n",
    "plt.ylim([0, 20])\n",
    "plt.show()"
   ]
  },
  {
   "cell_type": "markdown",
   "id": "fff8ba1b-b819-4f52-abfc-07828872d748",
   "metadata": {},
   "source": [
    "## 클러스터별 효율 지수\n",
    "- C3 > C0 > C1 > C2 (클 수록 효율 좋음)\n",
    "\n",
    "- C2: 효율 가장 안 좋은 클러스터\n",
    "    - 지역 D가 가장 많이 존재, 41%\n",
    "- C1: 효율 2번째 안 좋은 클러스터\n",
    "    - 지역 E 가장 많이 존재, 36%\n",
    "- C0: 효율 3번째 안 좋은 클러스터\n",
    "    - 지역 E가 가장 많지만 모든 지역 골고루 분포\n",
    "- C3: 가장 효율 좋은 클러스터\n",
    "    - 지역 B 만 존재"
   ]
  },
  {
   "cell_type": "code",
   "execution_count": 199,
   "id": "59dcb0f1-aa01-4a69-9597-77bcde817997",
   "metadata": {},
   "outputs": [
    {
     "data": {
      "text/plain": [
       "위치\n",
       "D    808\n",
       "C    698\n",
       "E    377\n",
       "B     82\n",
       "Name: count, dtype: int64"
      ]
     },
     "execution_count": 199,
     "metadata": {},
     "output_type": "execute_result"
    }
   ],
   "source": [
    "c2['위치'].value_counts()"
   ]
  },
  {
   "cell_type": "code",
   "execution_count": 205,
   "id": "9708a828-2ceb-49be-8151-9c6ef9b5d9da",
   "metadata": {},
   "outputs": [
    {
     "data": {
      "text/plain": [
       "0.4111959287531807"
      ]
     },
     "execution_count": 205,
     "metadata": {},
     "output_type": "execute_result"
    }
   ],
   "source": [
    "808 / len(c2)"
   ]
  },
  {
   "cell_type": "code",
   "execution_count": 201,
   "id": "cff8914d-fef1-4a26-b2e8-a1976819b0a5",
   "metadata": {},
   "outputs": [
    {
     "data": {
      "text/plain": [
       "위치\n",
       "E    1026\n",
       "C     722\n",
       "D     640\n",
       "B     405\n",
       "Name: count, dtype: int64"
      ]
     },
     "execution_count": 201,
     "metadata": {},
     "output_type": "execute_result"
    }
   ],
   "source": [
    "c1['위치'].value_counts()"
   ]
  },
  {
   "cell_type": "code",
   "execution_count": 207,
   "id": "85f23370-1afb-49f6-8b12-eb78d78e1fae",
   "metadata": {},
   "outputs": [
    {
     "data": {
      "text/plain": [
       "0.3673469387755102"
      ]
     },
     "execution_count": 207,
     "metadata": {},
     "output_type": "execute_result"
    }
   ],
   "source": [
    "1026 / len(c1)"
   ]
  },
  {
   "cell_type": "code",
   "execution_count": 209,
   "id": "9a625193-c1df-483e-ad7a-f58d2287da03",
   "metadata": {},
   "outputs": [
    {
     "data": {
      "text/plain": [
       "위치\n",
       "E    787\n",
       "C    770\n",
       "D    742\n",
       "B    573\n",
       "Name: count, dtype: int64"
      ]
     },
     "execution_count": 209,
     "metadata": {},
     "output_type": "execute_result"
    }
   ],
   "source": [
    "c0['위치'].value_counts()"
   ]
  },
  {
   "cell_type": "code",
   "execution_count": 55,
   "id": "817aff05-1fd5-4e30-9d09-231512730e93",
   "metadata": {},
   "outputs": [
    {
     "data": {
      "text/plain": [
       "위치\n",
       "B    1130\n",
       "Name: count, dtype: int64"
      ]
     },
     "execution_count": 55,
     "metadata": {},
     "output_type": "execute_result"
    }
   ],
   "source": [
    "c3['위치'].value_counts()"
   ]
  },
  {
   "cell_type": "code",
   "execution_count": 59,
   "id": "0b852f36-2835-4924-8047-0e1420e9ba2f",
   "metadata": {},
   "outputs": [
    {
     "data": {
      "image/png": "[encoded data removed]",
      "text/plain": [
       "<Figure size 1000x1000 with 1 Axes>"
      ]
     },
     "metadata": {},
     "output_type": "display_data"
    }
   ],
   "source": [
    "# 상대 습도와 클러스터\n",
    "# 인사이트 X\n",
    "\n",
    "plt.figure(figsize=(10, 10))\n",
    "sns.boxplot(x='Cluster', y='평균 상대습도(%)', data=df)\n",
    "plt.xlabel('Cluster')\n",
    "plt.ylabel('Efficiency Index')\n",
    "plt.show()"
   ]
  },
  {
   "cell_type": "code",
   "execution_count": null,
   "id": "1388e56d-4a0e-4c43-9d4f-e6eb1a90940c",
   "metadata": {},
   "outputs": [],
   "source": []
  }
 ],
 "metadata": {
  "colab": {
   "collapsed_sections": [
    "pptQLd0Phhfd"
   ],
   "provenance": []
  },
  "kernelspec": {
   "display_name": "Python 3 (ipykernel)",
   "language": "python",
   "name": "python3"
  },
  "language_info": {
   "codemirror_mode": {
    "name": "ipython",
    "version": 3
   },
   "file_extension": ".py",
   "mimetype": "text/x-python",
   "name": "python",
   "nbconvert_exporter": "python",
   "pygments_lexer": "ipython3",
   "version": "3.11.7"
  }
 },
 "nbformat": 4,
 "nbformat_minor": 5
}
